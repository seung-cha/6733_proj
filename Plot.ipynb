{
 "cells": [
  {
   "cell_type": "code",
   "execution_count": 58,
   "id": "c4e7b7c5",
   "metadata": {},
   "outputs": [
    {
     "data": {
      "text/plain": [
       "File(filename=file.h5, title=np.str_(''), mode='r', root_uep='/', filters=Filters(complevel=0, shuffle=False, bitshuffle=False, fletcher32=False, least_significant_digit=None))\n",
       "/ (RootGroup) np.str_('')\n",
       "/rx_group (Group) np.str_('')\n",
       "/rx_group/antenna0 (Table(np.int64(307200),)) np.str_('')\n",
       "  description := {\n",
       "  \"timestamp\": UInt64Col(shape=(), dflt=np.uint64(0), pos=0),\n",
       "  \"count\": Int32Col(shape=(), dflt=np.int32(0), pos=1),\n",
       "  \"real\": Int16Col(shape=(), dflt=np.int16(0), pos=2),\n",
       "  \"im\": Int16Col(shape=(), dflt=np.int16(0), pos=3)}\n",
       "  byteorder := 'little'\n",
       "  chunkshape := (np.int64(4096),)\n",
       "/tx_group (Group) np.str_('')\n",
       "/tx_group/antenna0 (Table(np.int64(289984),)) np.str_('')\n",
       "  description := {\n",
       "  \"timestamp\": UInt64Col(shape=(), dflt=np.uint64(0), pos=0),\n",
       "  \"count\": Int32Col(shape=(), dflt=np.int32(0), pos=1),\n",
       "  \"real\": Int16Col(shape=(), dflt=np.int16(0), pos=2),\n",
       "  \"im\": Int16Col(shape=(), dflt=np.int16(0), pos=3)}\n",
       "  byteorder := 'little'\n",
       "  chunkshape := (np.int64(4096),)"
      ]
     },
     "execution_count": 58,
     "metadata": {},
     "output_type": "execute_result"
    }
   ],
   "source": [
    "import tables as tb\n",
    "from matplotlib import pyplot as plt\n",
    "import numpy as np\n",
    "\n",
    "FILE_NAME = 'file.h5' # TODO: Replace this\n",
    "file = tb.open_file(FILE_NAME, 'r')\n",
    "\n",
    "file"
   ]
  },
  {
   "cell_type": "code",
   "execution_count": 59,
   "id": "0516f6d0",
   "metadata": {},
   "outputs": [],
   "source": [
    "# Check README.md for file structure.\n",
    "# Group data into dict(timestamp: [complex])\n",
    "def GroupTable(data) -> dict:\n",
    "    out = {}\n",
    "    for row in data.iterrows():\n",
    "        if row['timestamp'] not in out:\n",
    "            # First sort by count\n",
    "            records = {record['count'] : complex(record['real'], record['im']) \\\n",
    "                    for record in data.iterrows() if record['timestamp'] == row['timestamp']}\\\n",
    "            \n",
    "            records = dict(sorted(records.items()))\n",
    "\n",
    "            out[row['timestamp']] = list(records.values())\n",
    "    \n",
    "    # Sort by key (timestamp)\n",
    "    out = dict(sorted(out.items()))\n",
    "    return out"
   ]
  },
  {
   "cell_type": "code",
   "execution_count": 60,
   "id": "d2ea114b",
   "metadata": {},
   "outputs": [],
   "source": [
    "# Extract RX and TX data (only using antenna0)\n",
    "# Timestamp: list[complex numbers]\n",
    "rx_data = GroupTable(file.root.rx_group.antenna0)\n",
    "tx_data = GroupTable(file.root.tx_group.antenna0)"
   ]
  },
  {
   "cell_type": "code",
   "execution_count": 61,
   "id": "8ff5d5de",
   "metadata": {},
   "outputs": [
    {
     "name": "stdout",
     "output_type": "stream",
     "text": [
      "rx: [38860800 38891520 38922240 38952960 38983680 39014400 39045120 39075840\n",
      " 39106560 39137280]\n",
      "tx: [39045120 39075840 39106560 39137280 39168000 39198720 39229440 39321280\n",
      " 39352320 39383040]\n"
     ]
    },
    {
     "data": {
      "text/plain": [
       "<matplotlib.legend.Legend at 0x7a4ff94dc8c0>"
      ]
     },
     "execution_count": 61,
     "metadata": {},
     "output_type": "execute_result"
    },
    {
     "data": {
      "image/png": "[encoded data removed]",
      "text/plain": [
       "<Figure size 640x480 with 1 Axes>"
      ]
     },
     "metadata": {},
     "output_type": "display_data"
    }
   ],
   "source": [
    "# Plot the timestamps\n",
    "rx_timestamp_list = np.array(list(rx_data.keys()))\n",
    "tx_timestamp_list = np.array(list(tx_data.keys()))\n",
    "#timestamp_offset = np.min(abs(rx_timestamp_list - tx_timestamp_list))\n",
    "\n",
    "print(f'rx: {rx_timestamp_list}')\n",
    "print(f'tx: {tx_timestamp_list}')\n",
    "#print(f'smallest difference: {timestamp_offset}')\n",
    "\n",
    "\n",
    "fig, axes = plt.subplots()\n",
    "fig.suptitle(\"Timestamp\")\n",
    "\n",
    "# Show raw timestamp\n",
    "axes.set_title('raw timestamp')\n",
    "axes.plot(rx_data.keys(), 'o', label= 'rx')\n",
    "axes.plot(tx_data.keys(), 'o', label= 'tx')\n",
    "axes.legend()\n",
    "\n",
    "# # Offset rx or tx by the offset. Subtract offset from the set with larger timestamps.\n",
    "# if rx_timestamp_list[0] > tx_timestamp_list[0]:\n",
    "#     rx_timestamp_list -= timestamp_offset\n",
    "#     # Update the dictionary accordingly\n",
    "#     rx_data = {k - timestamp_offset : v for k, v in rx_data.items()}\n",
    "# else:\n",
    "#     tx_timestamp_list -= timestamp_offset\n",
    "#     tx_data = {k - timestamp_offset : v for k, v in tx_data.items()}\n",
    "\n",
    "# axes[1].set_title('adjusted timestamp')\n",
    "# axes[1].plot(rx_timestamp_list, 'o', label= 'rx')\n",
    "# axes[1].plot(tx_timestamp_list, 'o', label= 'tx')\n",
    "# axes[0].legend()"
   ]
  },
  {
   "cell_type": "code",
   "execution_count": 62,
   "id": "6c994b59",
   "metadata": {},
   "outputs": [
    {
     "name": "stdout",
     "output_type": "stream",
     "text": [
      "No match for rx at 0. Diff: 184320\n",
      "No match for rx at 1. Diff: 153600\n",
      "No match for rx at 2. Diff: 122880\n",
      "No match for rx at 3. Diff: 92160\n",
      "No match for rx at 4. Diff: 61440\n",
      "No match for rx at 5. Diff: 30720\n",
      "Match for rx at 6: 0\n",
      "Match for rx at 7: 1\n",
      "Match for rx at 8: 2\n",
      "Match for rx at 9: 3\n"
     ]
    }
   ],
   "source": [
    "# Extract samples with matching timestamps, tuple(rx, tx) of list:\n",
    "matching_samples = []\n",
    "tol_offset = 600 # TODO Determine\n",
    "\n",
    "for timestamp, samples, i in zip(rx_data.keys(), rx_data.values(), range(len(rx_data.keys()))):\n",
    "    tx_index = np.argmin(np.abs(timestamp - np.array(list(tx_data.keys()))))\n",
    "    diff = abs(list(tx_data.keys())[tx_index] - timestamp)\n",
    "\n",
    "    if diff < tol_offset:\n",
    "        print(f'Match for rx at {i}: {tx_index}')\n",
    "        matching_samples.append((samples, list(tx_data.values())[tx_index]))\n",
    "    else:\n",
    "        print(f'No match for rx at {i}. Diff: {diff}')\n",
    "\n",
    "\n",
    "# for rx, tx, i in zip(rx_data.items(), tx_data.items(), range(len(tx_data))):\n",
    "#     if abs(rx[0] - tx[0]) < tol_offset:\n",
    "#         print(f'Matching samples at {i}')\n",
    "\n",
    "#         rx_samples_ctr = len(rx[1])\n",
    "#         tx_samples_ctr = len(tx[1])\n",
    "#         diff = rx_samples_ctr - tx_samples_ctr\n",
    "#         print(f'    no. rx samples: {rx_samples_ctr}; no. tx samples: {tx_samples_ctr}')\n",
    "\n",
    "#         r_list = list(rx[1])\n",
    "#         t_list = list(tx[1])\n",
    "\n",
    "#         if diff < 0:\n",
    "#             print(f'padding {abs(diff)} trailing 0s to rx to match the size ')\n",
    "#             r_list += [0] * abs(diff)\n",
    "#         elif diff > 0:\n",
    "#             print(f'padding {abs(diff)} trailing 0s to tx to match the size ')\n",
    "#             t_list += [0] * abs(diff)\n",
    "\n",
    "#         matching_samples.append((r_list, t_list))\n"
   ]
  },
  {
   "cell_type": "code",
   "execution_count": null,
   "id": "ae8a8038",
   "metadata": {},
   "outputs": [
    {
     "name": "stdout",
     "output_type": "stream",
     "text": [
      "[array([0.+0.j, 0.+0.j, 0.+0.j, ..., 0.+0.j, 0.+0.j, 0.+0.j],\n",
      "      shape=(61439,)), array([0.+0.j, 0.+0.j, 0.+0.j, ..., 0.+0.j, 0.+0.j, 0.+0.j],\n",
      "      shape=(61439,)), array([0.+0.j, 0.+0.j, 0.+0.j, ..., 0.+0.j, 0.+0.j, 0.+0.j],\n",
      "      shape=(61439,)), array([0.+0.j, 0.+0.j, 0.+0.j, ..., 0.+0.j, 0.+0.j, 0.+0.j],\n",
      "      shape=(61439,))]\n"
     ]
    }
   ],
   "source": [
    "col_out = []\n",
    "for (rx, tx) in matching_samples:\n",
    "    col_out.append(np.correlate(rx, tx, mode= 'full')) # TODO: Try different modes (valid, full, same)\n",
    "\n",
    "print(col_out)"
   ]
  },
  {
   "cell_type": "code",
   "execution_count": 64,
   "id": "3fc810d0",
   "metadata": {},
   "outputs": [
    {
     "data": {
      "image/png": "[encoded data removed]",
      "text/plain": [
       "<Figure size 640x480 with 1 Axes>"
      ]
     },
     "metadata": {},
     "output_type": "display_data"
    }
   ],
   "source": [
    "fig, ax = plt.subplots()\n",
    "for out in col_out:\n",
    "    ax.plot(abs(out))"
   ]
  }
 ],
 "metadata": {
  "kernelspec": {
   "display_name": "6733_project",
   "language": "python",
   "name": "python3"
  },
  "language_info": {
   "codemirror_mode": {
    "name": "ipython",
    "version": 3
   },
   "file_extension": ".py",
   "mimetype": "text/x-python",
   "name": "python",
   "nbconvert_exporter": "python",
   "pygments_lexer": "ipython3",
   "version": "3.12.11"
  }
 },
 "nbformat": 4,
 "nbformat_minor": 5
}
